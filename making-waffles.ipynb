{
 "cells": [
  {
   "cell_type": "markdown",
   "id": "f5a157f4",
   "metadata": {
    "papermill": {
     "duration": 0.008493,
     "end_time": "2024-08-16T18:17:09.898346",
     "exception": false,
     "start_time": "2024-08-16T18:17:09.889853",
     "status": "completed"
    },
    "tags": []
   },
   "source": [
    "# Making Waffles\n",
    "\n",
    "The challenge is to create visually appealing waffle charts using sales data in a csv as input and python to manipulate the data.\n",
    "\n",
    "I want the waffle chart to look the same as ones I created earlier in Excel."
   ]
  },
  {
   "cell_type": "code",
   "execution_count": 1,
   "id": "8788c3a8",
   "metadata": {
    "_cell_guid": "b1076dfc-b9ad-4769-8c92-a6c4dae69d19",
    "_uuid": "8f2839f25d086af736a60e9eeb907d3b93b6e0e5",
    "execution": {
     "iopub.execute_input": "2024-08-16T18:17:09.916189Z",
     "iopub.status.busy": "2024-08-16T18:17:09.915541Z",
     "iopub.status.idle": "2024-08-16T18:17:11.070990Z",
     "shell.execute_reply": "2024-08-16T18:17:11.069764Z"
    },
    "papermill": {
     "duration": 1.16814,
     "end_time": "2024-08-16T18:17:11.074353",
     "exception": false,
     "start_time": "2024-08-16T18:17:09.906213",
     "status": "completed"
    },
    "tags": []
   },
   "outputs": [
    {
     "name": "stdout",
     "output_type": "stream",
     "text": [
      "/kaggle/input/sales-data-for-waffles/Sales Data For Waffles.csv\n"
     ]
    }
   ],
   "source": [
    "#importing the required libraries\n",
    "\n",
    "import numpy as np # linear algebra\n",
    "import pandas as pd # data processing, CSV file I/O (e.g. pd.read_csv)\n",
    "import matplotlib.pyplot as plt\n",
    "\n",
    "import os\n",
    "for dirname, _, filenames in os.walk('/kaggle/input'):\n",
    "    for filename in filenames:\n",
    "        print(os.path.join(dirname, filename))"
   ]
  },
  {
   "cell_type": "code",
   "execution_count": 2,
   "id": "c1846f68",
   "metadata": {
    "execution": {
     "iopub.execute_input": "2024-08-16T18:17:11.094473Z",
     "iopub.status.busy": "2024-08-16T18:17:11.093040Z",
     "iopub.status.idle": "2024-08-16T18:17:11.116708Z",
     "shell.execute_reply": "2024-08-16T18:17:11.115426Z"
    },
    "papermill": {
     "duration": 0.037511,
     "end_time": "2024-08-16T18:17:11.120316",
     "exception": false,
     "start_time": "2024-08-16T18:17:11.082805",
     "status": "completed"
    },
    "tags": []
   },
   "outputs": [],
   "source": [
    "# importing the sales data and storing it in a variable\n",
    "\n",
    "df_sales = pd.read_csv('/kaggle/input/sales-data-for-waffles/Sales Data For Waffles.csv')\n"
   ]
  },
  {
   "cell_type": "code",
   "execution_count": 3,
   "id": "07a954f4",
   "metadata": {
    "execution": {
     "iopub.execute_input": "2024-08-16T18:17:11.141126Z",
     "iopub.status.busy": "2024-08-16T18:17:11.139896Z",
     "iopub.status.idle": "2024-08-16T18:17:11.170283Z",
     "shell.execute_reply": "2024-08-16T18:17:11.168634Z"
    },
    "papermill": {
     "duration": 0.045009,
     "end_time": "2024-08-16T18:17:11.173685",
     "exception": false,
     "start_time": "2024-08-16T18:17:11.128676",
     "status": "completed"
    },
    "tags": []
   },
   "outputs": [
    {
     "data": {
      "text/html": [
       "<div>\n",
       "<style scoped>\n",
       "    .dataframe tbody tr th:only-of-type {\n",
       "        vertical-align: middle;\n",
       "    }\n",
       "\n",
       "    .dataframe tbody tr th {\n",
       "        vertical-align: top;\n",
       "    }\n",
       "\n",
       "    .dataframe thead th {\n",
       "        text-align: right;\n",
       "    }\n",
       "</style>\n",
       "<table border=\"1\" class=\"dataframe\">\n",
       "  <thead>\n",
       "    <tr style=\"text-align: right;\">\n",
       "      <th></th>\n",
       "      <th>Date</th>\n",
       "      <th>Month</th>\n",
       "      <th>Year</th>\n",
       "      <th>Ticket Type</th>\n",
       "      <th>Quantity</th>\n",
       "    </tr>\n",
       "  </thead>\n",
       "  <tbody>\n",
       "    <tr>\n",
       "      <th>0</th>\n",
       "      <td>02/01/2020</td>\n",
       "      <td>January</td>\n",
       "      <td>2020</td>\n",
       "      <td>Adult</td>\n",
       "      <td>4</td>\n",
       "    </tr>\n",
       "    <tr>\n",
       "      <th>1</th>\n",
       "      <td>02/01/2020</td>\n",
       "      <td>January</td>\n",
       "      <td>2020</td>\n",
       "      <td>Adult</td>\n",
       "      <td>5</td>\n",
       "    </tr>\n",
       "    <tr>\n",
       "      <th>2</th>\n",
       "      <td>04/01/2020</td>\n",
       "      <td>January</td>\n",
       "      <td>2020</td>\n",
       "      <td>Adult</td>\n",
       "      <td>2</td>\n",
       "    </tr>\n",
       "    <tr>\n",
       "      <th>3</th>\n",
       "      <td>07/01/2020</td>\n",
       "      <td>January</td>\n",
       "      <td>2020</td>\n",
       "      <td>Adult</td>\n",
       "      <td>1</td>\n",
       "    </tr>\n",
       "    <tr>\n",
       "      <th>4</th>\n",
       "      <td>08/01/2020</td>\n",
       "      <td>January</td>\n",
       "      <td>2020</td>\n",
       "      <td>Adult</td>\n",
       "      <td>10</td>\n",
       "    </tr>\n",
       "  </tbody>\n",
       "</table>\n",
       "</div>"
      ],
      "text/plain": [
       "         Date    Month  Year Ticket Type  Quantity\n",
       "0  02/01/2020  January  2020       Adult         4\n",
       "1  02/01/2020  January  2020       Adult         5\n",
       "2  04/01/2020  January  2020       Adult         2\n",
       "3  07/01/2020  January  2020       Adult         1\n",
       "4  08/01/2020  January  2020       Adult        10"
      ]
     },
     "execution_count": 3,
     "metadata": {},
     "output_type": "execute_result"
    }
   ],
   "source": [
    "#checking the data frame\n",
    "\n",
    "df_sales.head(5)"
   ]
  },
  {
   "cell_type": "markdown",
   "id": "d558dc14",
   "metadata": {
    "papermill": {
     "duration": 0.007939,
     "end_time": "2024-08-16T18:17:11.190187",
     "exception": false,
     "start_time": "2024-08-16T18:17:11.182248",
     "status": "completed"
    },
    "tags": []
   },
   "source": [
    "# Initial Waffle Code\n",
    "\n",
    "I asked chat gpt to give me some code definig a variable that creates a waffle chart to get me started."
   ]
  },
  {
   "cell_type": "code",
   "execution_count": 4,
   "id": "de69ca97",
   "metadata": {
    "execution": {
     "iopub.execute_input": "2024-08-16T18:17:11.211180Z",
     "iopub.status.busy": "2024-08-16T18:17:11.210649Z",
     "iopub.status.idle": "2024-08-16T18:17:11.935706Z",
     "shell.execute_reply": "2024-08-16T18:17:11.934310Z"
    },
    "papermill": {
     "duration": 0.738838,
     "end_time": "2024-08-16T18:17:11.938796",
     "exception": false,
     "start_time": "2024-08-16T18:17:11.199958",
     "status": "completed"
    },
    "tags": []
   },
   "outputs": [
    {
     "data": {
      "text/plain": [
       "<Figure size 1000x500 with 0 Axes>"
      ]
     },
     "metadata": {},
     "output_type": "display_data"
    },
    {
     "data": {
      "image/png": "[encoded data removed]",
      "text/plain": [
       "<Figure size 480x480 with 2 Axes>"
      ]
     },
     "metadata": {},
     "output_type": "display_data"
    }
   ],
   "source": [
    "# Testing the waffle code\n",
    "\n",
    "def create_waffle_chart(categories, values, rows=10, cols=10, colors=None, title='Test Waffle Chart'):\n",
    "    total_values = sum(values)\n",
    "    category_proportions = [(float(value) / total_values) for value in values]\n",
    "\n",
    "    # Define the total number of tiles\n",
    "    total_tiles = rows * cols\n",
    "    tiles_per_category = [round(proportion * total_tiles) for proportion in category_proportions]\n",
    "\n",
    "    # Create a list of category indexes\n",
    "    waffle_chart = np.zeros((rows, cols), dtype=int)\n",
    "\n",
    "    # Populate the waffle chart\n",
    "    category_index = 0\n",
    "    for r in range(rows):\n",
    "        for c in range(cols):\n",
    "            if tiles_per_category[category_index] == 0:\n",
    "                category_index += 1\n",
    "            waffle_chart[r, c] = category_index\n",
    "            tiles_per_category[category_index] -= 1\n",
    "\n",
    "    # Plotting the waffle chart\n",
    "    plt.figure(figsize=(10, 5))\n",
    "    plt.matshow(waffle_chart, cmap=plt.cm.Paired, alpha=0.8)\n",
    "    plt.colorbar()\n",
    "\n",
    "    # Create legend\n",
    "    if colors:\n",
    "        for i, category in enumerate(categories):\n",
    "            plt.plot([], [], color=colors[i], label=category)\n",
    "        plt.legend(loc='lower right', bbox_to_anchor=(0.9, -0.1))\n",
    "\n",
    "    plt.title(title)\n",
    "    plt.show()\n",
    "\n",
    "# Example Usage\n",
    "categories = ['Category A', 'Category B', 'Category C']\n",
    "values = [40, 35, 25]\n",
    "colors = ['#FF9999', '#66B2FF', '#99FF99']\n",
    "\n",
    "create_waffle_chart(categories, values, rows=10, cols=10, colors=colors, title='My Waffle Chart')\n"
   ]
  },
  {
   "cell_type": "markdown",
   "id": "94cce9cf",
   "metadata": {
    "papermill": {
     "duration": 0.009324,
     "end_time": "2024-08-16T18:17:11.957651",
     "exception": false,
     "start_time": "2024-08-16T18:17:11.948327",
     "status": "completed"
    },
    "tags": []
   },
   "source": [
    "# Amend the code to alter the design of the waffle chart\n",
    "\n",
    "Changes include: removing the colour bar, adding gridlines and making them thick and black, removing the axis labels, adding a variable for the title, colouring the blackground black and the title white, creating a horizontal legend that sits undeneath the chart, linking the chart colours to the color variable"
   ]
  },
  {
   "cell_type": "code",
   "execution_count": 5,
   "id": "38b7b8e2",
   "metadata": {
    "execution": {
     "iopub.execute_input": "2024-08-16T18:17:11.978195Z",
     "iopub.status.busy": "2024-08-16T18:17:11.977673Z",
     "iopub.status.idle": "2024-08-16T18:17:12.330766Z",
     "shell.execute_reply": "2024-08-16T18:17:12.329023Z"
    },
    "papermill": {
     "duration": 0.367548,
     "end_time": "2024-08-16T18:17:12.333870",
     "exception": false,
     "start_time": "2024-08-16T18:17:11.966322",
     "status": "completed"
    },
    "tags": []
   },
   "outputs": [
    {
     "data": {
      "image/png": "[encoded data removed]",
      "text/plain": [
       "<Figure size 1000x500 with 1 Axes>"
      ]
     },
     "metadata": {},
     "output_type": "display_data"
    }
   ],
   "source": [
    "def create_waffle_chart(categories, values, rows=10, cols=10, colors=None, title='Waffle Chart'):\n",
    "    total_values = sum(values)\n",
    "    category_proportions = [(float(value) / total_values) for value in values]\n",
    "\n",
    "    # Define the total number of tiles\n",
    "    total_tiles = rows * cols\n",
    "    tiles_per_category = [round(proportion * total_tiles) for proportion in category_proportions]\n",
    "\n",
    "    # Create a list of category indexes\n",
    "    waffle_chart = np.zeros((rows, cols))\n",
    "\n",
    "    # Populate the waffle chart\n",
    "    category_index = 0\n",
    "    tile_index = 0\n",
    "    for r in range(rows):\n",
    "        for c in range(cols):\n",
    "            while tiles_per_category[category_index] == 0:\n",
    "                category_index += 1\n",
    "            waffle_chart[r, c] = category_index\n",
    "            tiles_per_category[category_index] -= 1\n",
    "            tile_index += 1\n",
    "\n",
    "    # Plotting the waffle chart with a black background\n",
    "    fig, ax = plt.subplots(figsize=(10, 5))\n",
    "    fig.patch.set_facecolor('black')  # Set the figure background to black\n",
    "    ax.set_facecolor('black')         # Set the axes background to black\n",
    "\n",
    "    # Set up a colormap based on the colors provided\n",
    "    if colors:\n",
    "        cmap = plt.matplotlib.colors.ListedColormap(colors)\n",
    "        ax.matshow(waffle_chart, cmap=cmap, alpha=0.9)\n",
    "    else:\n",
    "        ax.matshow(waffle_chart, cmap=plt.cm.Paired, alpha=0.9)\n",
    "\n",
    "    # Add thick gridlines in black\n",
    "    for r in range(rows + 1):\n",
    "        ax.axhline(r - 0.5, color='black', linewidth=3)\n",
    "    for c in range(cols + 1):\n",
    "        ax.axvline(c - 0.5, color='black', linewidth=3)\n",
    "\n",
    "    # Hide the ticks\n",
    "    ax.set_xticks([])\n",
    "    ax.set_yticks([])\n",
    "\n",
    "    # Create legend below the chart\n",
    "    if colors:\n",
    "        handles = [plt.Rectangle((0, 0), 1, 1, color=colors[i]) for i in range(len(categories))]\n",
    "        ax.legend(handles, categories, loc='upper center', bbox_to_anchor=(0.5, -0.15),\n",
    "                  ncol=len(categories), facecolor='black', edgecolor='white', fontsize=10, labelcolor='white')\n",
    "\n",
    "    plt.title(title, color='white')\n",
    "    plt.show()\n",
    "\n",
    "# Example Usage\n",
    "categories = ['Category A', 'Category B', 'Category C', 'Category D']\n",
    "values = [40, 35, 25,33]\n",
    "colors = ['#627AF7', '#916EC8', '#C06299', '#EF566A']\n",
    "title_var = \"The Month will go here\"\n",
    "\n",
    "create_waffle_chart(categories, values, rows=10, cols=10, colors=colors, title=title_var)\n"
   ]
  },
  {
   "cell_type": "markdown",
   "id": "6f80c145",
   "metadata": {
    "papermill": {
     "duration": 0.009304,
     "end_time": "2024-08-16T18:17:12.353028",
     "exception": false,
     "start_time": "2024-08-16T18:17:12.343724",
     "status": "completed"
    },
    "tags": []
   },
   "source": [
    "# Preparing my data\n",
    "\n",
    "Now I need to manipulate my code so it is in the correct format to feed into the waffle charts."
   ]
  },
  {
   "cell_type": "code",
   "execution_count": 6,
   "id": "11da32d9",
   "metadata": {
    "execution": {
     "iopub.execute_input": "2024-08-16T18:17:12.376374Z",
     "iopub.status.busy": "2024-08-16T18:17:12.375309Z",
     "iopub.status.idle": "2024-08-16T18:17:12.392015Z",
     "shell.execute_reply": "2024-08-16T18:17:12.390402Z"
    },
    "papermill": {
     "duration": 0.03222,
     "end_time": "2024-08-16T18:17:12.394986",
     "exception": false,
     "start_time": "2024-08-16T18:17:12.362766",
     "status": "completed"
    },
    "tags": []
   },
   "outputs": [
    {
     "data": {
      "text/html": [
       "<div>\n",
       "<style scoped>\n",
       "    .dataframe tbody tr th:only-of-type {\n",
       "        vertical-align: middle;\n",
       "    }\n",
       "\n",
       "    .dataframe tbody tr th {\n",
       "        vertical-align: top;\n",
       "    }\n",
       "\n",
       "    .dataframe thead th {\n",
       "        text-align: right;\n",
       "    }\n",
       "</style>\n",
       "<table border=\"1\" class=\"dataframe\">\n",
       "  <thead>\n",
       "    <tr style=\"text-align: right;\">\n",
       "      <th></th>\n",
       "      <th>Date</th>\n",
       "      <th>Month</th>\n",
       "      <th>Year</th>\n",
       "      <th>Ticket Type</th>\n",
       "      <th>Quantity</th>\n",
       "    </tr>\n",
       "  </thead>\n",
       "  <tbody>\n",
       "    <tr>\n",
       "      <th>0</th>\n",
       "      <td>02/01/2020</td>\n",
       "      <td>January</td>\n",
       "      <td>2020</td>\n",
       "      <td>Adult</td>\n",
       "      <td>4</td>\n",
       "    </tr>\n",
       "    <tr>\n",
       "      <th>1</th>\n",
       "      <td>02/01/2020</td>\n",
       "      <td>January</td>\n",
       "      <td>2020</td>\n",
       "      <td>Adult</td>\n",
       "      <td>5</td>\n",
       "    </tr>\n",
       "    <tr>\n",
       "      <th>2</th>\n",
       "      <td>04/01/2020</td>\n",
       "      <td>January</td>\n",
       "      <td>2020</td>\n",
       "      <td>Adult</td>\n",
       "      <td>2</td>\n",
       "    </tr>\n",
       "    <tr>\n",
       "      <th>3</th>\n",
       "      <td>07/01/2020</td>\n",
       "      <td>January</td>\n",
       "      <td>2020</td>\n",
       "      <td>Adult</td>\n",
       "      <td>1</td>\n",
       "    </tr>\n",
       "    <tr>\n",
       "      <th>4</th>\n",
       "      <td>08/01/2020</td>\n",
       "      <td>January</td>\n",
       "      <td>2020</td>\n",
       "      <td>Adult</td>\n",
       "      <td>10</td>\n",
       "    </tr>\n",
       "  </tbody>\n",
       "</table>\n",
       "</div>"
      ],
      "text/plain": [
       "         Date    Month  Year Ticket Type  Quantity\n",
       "0  02/01/2020  January  2020       Adult         4\n",
       "1  02/01/2020  January  2020       Adult         5\n",
       "2  04/01/2020  January  2020       Adult         2\n",
       "3  07/01/2020  January  2020       Adult         1\n",
       "4  08/01/2020  January  2020       Adult        10"
      ]
     },
     "execution_count": 6,
     "metadata": {},
     "output_type": "execute_result"
    }
   ],
   "source": [
    "df_sales.head(5)"
   ]
  },
  {
   "cell_type": "code",
   "execution_count": 7,
   "id": "9de568bf",
   "metadata": {
    "execution": {
     "iopub.execute_input": "2024-08-16T18:17:12.418584Z",
     "iopub.status.busy": "2024-08-16T18:17:12.417342Z",
     "iopub.status.idle": "2024-08-16T18:17:12.430821Z",
     "shell.execute_reply": "2024-08-16T18:17:12.429397Z"
    },
    "papermill": {
     "duration": 0.028438,
     "end_time": "2024-08-16T18:17:12.434031",
     "exception": false,
     "start_time": "2024-08-16T18:17:12.405593",
     "status": "completed"
    },
    "tags": []
   },
   "outputs": [
    {
     "data": {
      "text/plain": [
       "array([2020, 2021, 2022, 2023])"
      ]
     },
     "execution_count": 7,
     "metadata": {},
     "output_type": "execute_result"
    }
   ],
   "source": [
    "#note: this is fake data and for the purpose of this exercise I am assuming all tickets were sold in the same calendar year despite there being multiple values in the year column\n",
    "\n",
    "\n",
    "df_sales['Year'].unique()"
   ]
  },
  {
   "cell_type": "markdown",
   "id": "5abe3149",
   "metadata": {
    "papermill": {
     "duration": 0.009996,
     "end_time": "2024-08-16T18:17:12.455010",
     "exception": false,
     "start_time": "2024-08-16T18:17:12.445014",
     "status": "completed"
    },
    "tags": []
   },
   "source": [
    "\n",
    "I want to have one waffle chart per month. My *categories* variable will be the names of the 4 ticket types and the *values* variable will be the total of each type sold per month.\n",
    "\n",
    "To achieve this, I need to group my data by month and ticket type so I have just one value per month for each ticket type."
   ]
  },
  {
   "cell_type": "code",
   "execution_count": 8,
   "id": "54078407",
   "metadata": {
    "execution": {
     "iopub.execute_input": "2024-08-16T18:17:12.478943Z",
     "iopub.status.busy": "2024-08-16T18:17:12.478459Z",
     "iopub.status.idle": "2024-08-16T18:17:12.500821Z",
     "shell.execute_reply": "2024-08-16T18:17:12.499207Z"
    },
    "papermill": {
     "duration": 0.038662,
     "end_time": "2024-08-16T18:17:12.503975",
     "exception": false,
     "start_time": "2024-08-16T18:17:12.465313",
     "status": "completed"
    },
    "tags": []
   },
   "outputs": [
    {
     "data": {
      "text/html": [
       "<div>\n",
       "<style scoped>\n",
       "    .dataframe tbody tr th:only-of-type {\n",
       "        vertical-align: middle;\n",
       "    }\n",
       "\n",
       "    .dataframe tbody tr th {\n",
       "        vertical-align: top;\n",
       "    }\n",
       "\n",
       "    .dataframe thead th {\n",
       "        text-align: right;\n",
       "    }\n",
       "</style>\n",
       "<table border=\"1\" class=\"dataframe\">\n",
       "  <thead>\n",
       "    <tr style=\"text-align: right;\">\n",
       "      <th></th>\n",
       "      <th>Month</th>\n",
       "      <th>Ticket Type</th>\n",
       "      <th>Quantity</th>\n",
       "    </tr>\n",
       "  </thead>\n",
       "  <tbody>\n",
       "    <tr>\n",
       "      <th>0</th>\n",
       "      <td>January</td>\n",
       "      <td>Adult</td>\n",
       "      <td>4</td>\n",
       "    </tr>\n",
       "    <tr>\n",
       "      <th>1</th>\n",
       "      <td>January</td>\n",
       "      <td>Adult</td>\n",
       "      <td>5</td>\n",
       "    </tr>\n",
       "    <tr>\n",
       "      <th>2</th>\n",
       "      <td>January</td>\n",
       "      <td>Adult</td>\n",
       "      <td>2</td>\n",
       "    </tr>\n",
       "    <tr>\n",
       "      <th>3</th>\n",
       "      <td>January</td>\n",
       "      <td>Adult</td>\n",
       "      <td>1</td>\n",
       "    </tr>\n",
       "    <tr>\n",
       "      <th>4</th>\n",
       "      <td>January</td>\n",
       "      <td>Adult</td>\n",
       "      <td>10</td>\n",
       "    </tr>\n",
       "  </tbody>\n",
       "</table>\n",
       "</div>"
      ],
      "text/plain": [
       "     Month Ticket Type  Quantity\n",
       "0  January       Adult         4\n",
       "1  January       Adult         5\n",
       "2  January       Adult         2\n",
       "3  January       Adult         1\n",
       "4  January       Adult        10"
      ]
     },
     "execution_count": 8,
     "metadata": {},
     "output_type": "execute_result"
    }
   ],
   "source": [
    "#selecting only the columns I need to make grouping easier\n",
    "\n",
    "df_new = df_sales[['Month','Ticket Type', 'Quantity']]\n",
    "\n",
    "df_new.head(5)"
   ]
  },
  {
   "cell_type": "code",
   "execution_count": 9,
   "id": "c3e6383e",
   "metadata": {
    "execution": {
     "iopub.execute_input": "2024-08-16T18:17:12.526961Z",
     "iopub.status.busy": "2024-08-16T18:17:12.526419Z",
     "iopub.status.idle": "2024-08-16T18:17:12.552322Z",
     "shell.execute_reply": "2024-08-16T18:17:12.550946Z"
    },
    "papermill": {
     "duration": 0.040859,
     "end_time": "2024-08-16T18:17:12.555413",
     "exception": false,
     "start_time": "2024-08-16T18:17:12.514554",
     "status": "completed"
    },
    "tags": []
   },
   "outputs": [
    {
     "data": {
      "text/html": [
       "<div>\n",
       "<style scoped>\n",
       "    .dataframe tbody tr th:only-of-type {\n",
       "        vertical-align: middle;\n",
       "    }\n",
       "\n",
       "    .dataframe tbody tr th {\n",
       "        vertical-align: top;\n",
       "    }\n",
       "\n",
       "    .dataframe thead th {\n",
       "        text-align: right;\n",
       "    }\n",
       "</style>\n",
       "<table border=\"1\" class=\"dataframe\">\n",
       "  <thead>\n",
       "    <tr style=\"text-align: right;\">\n",
       "      <th></th>\n",
       "      <th>Month</th>\n",
       "      <th>Ticket Type</th>\n",
       "      <th>Quantity</th>\n",
       "    </tr>\n",
       "  </thead>\n",
       "  <tbody>\n",
       "    <tr>\n",
       "      <th>0</th>\n",
       "      <td>April</td>\n",
       "      <td>Adult</td>\n",
       "      <td>149</td>\n",
       "    </tr>\n",
       "    <tr>\n",
       "      <th>1</th>\n",
       "      <td>April</td>\n",
       "      <td>Child</td>\n",
       "      <td>58</td>\n",
       "    </tr>\n",
       "    <tr>\n",
       "      <th>2</th>\n",
       "      <td>April</td>\n",
       "      <td>Platinum</td>\n",
       "      <td>24</td>\n",
       "    </tr>\n",
       "    <tr>\n",
       "      <th>3</th>\n",
       "      <td>April</td>\n",
       "      <td>VIP</td>\n",
       "      <td>29</td>\n",
       "    </tr>\n",
       "    <tr>\n",
       "      <th>4</th>\n",
       "      <td>August</td>\n",
       "      <td>Adult</td>\n",
       "      <td>145</td>\n",
       "    </tr>\n",
       "    <tr>\n",
       "      <th>5</th>\n",
       "      <td>August</td>\n",
       "      <td>Child</td>\n",
       "      <td>57</td>\n",
       "    </tr>\n",
       "    <tr>\n",
       "      <th>6</th>\n",
       "      <td>August</td>\n",
       "      <td>Platinum</td>\n",
       "      <td>43</td>\n",
       "    </tr>\n",
       "    <tr>\n",
       "      <th>7</th>\n",
       "      <td>August</td>\n",
       "      <td>VIP</td>\n",
       "      <td>20</td>\n",
       "    </tr>\n",
       "    <tr>\n",
       "      <th>8</th>\n",
       "      <td>December</td>\n",
       "      <td>Adult</td>\n",
       "      <td>134</td>\n",
       "    </tr>\n",
       "    <tr>\n",
       "      <th>9</th>\n",
       "      <td>December</td>\n",
       "      <td>Child</td>\n",
       "      <td>75</td>\n",
       "    </tr>\n",
       "  </tbody>\n",
       "</table>\n",
       "</div>"
      ],
      "text/plain": [
       "      Month Ticket Type  Quantity\n",
       "0     April       Adult       149\n",
       "1     April       Child        58\n",
       "2     April    Platinum        24\n",
       "3     April         VIP        29\n",
       "4    August       Adult       145\n",
       "5    August       Child        57\n",
       "6    August    Platinum        43\n",
       "7    August         VIP        20\n",
       "8  December       Adult       134\n",
       "9  December       Child        75"
      ]
     },
     "execution_count": 9,
     "metadata": {},
     "output_type": "execute_result"
    }
   ],
   "source": [
    "#grouping the data by month and ticket type. Resetting the index to ensure the headers are correct.\n",
    "\n",
    "grouped_sales = df_new.groupby(['Month', 'Ticket Type']).sum().reset_index()\n",
    "\n",
    "grouped_sales.head(10)"
   ]
  },
  {
   "cell_type": "markdown",
   "id": "a5412979",
   "metadata": {
    "papermill": {
     "duration": 0.010019,
     "end_time": "2024-08-16T18:17:12.576963",
     "exception": false,
     "start_time": "2024-08-16T18:17:12.566944",
     "status": "completed"
    },
    "tags": []
   },
   "source": [
    "I want to sort the Month chronologically not alphabetically"
   ]
  },
  {
   "cell_type": "code",
   "execution_count": 10,
   "id": "e87b573a",
   "metadata": {
    "execution": {
     "iopub.execute_input": "2024-08-16T18:17:12.600326Z",
     "iopub.status.busy": "2024-08-16T18:17:12.599808Z",
     "iopub.status.idle": "2024-08-16T18:17:12.623537Z",
     "shell.execute_reply": "2024-08-16T18:17:12.622059Z"
    },
    "papermill": {
     "duration": 0.038943,
     "end_time": "2024-08-16T18:17:12.626433",
     "exception": false,
     "start_time": "2024-08-16T18:17:12.587490",
     "status": "completed"
    },
    "tags": []
   },
   "outputs": [
    {
     "data": {
      "text/html": [
       "<div>\n",
       "<style scoped>\n",
       "    .dataframe tbody tr th:only-of-type {\n",
       "        vertical-align: middle;\n",
       "    }\n",
       "\n",
       "    .dataframe tbody tr th {\n",
       "        vertical-align: top;\n",
       "    }\n",
       "\n",
       "    .dataframe thead th {\n",
       "        text-align: right;\n",
       "    }\n",
       "</style>\n",
       "<table border=\"1\" class=\"dataframe\">\n",
       "  <thead>\n",
       "    <tr style=\"text-align: right;\">\n",
       "      <th></th>\n",
       "      <th>index</th>\n",
       "      <th>Month</th>\n",
       "      <th>Ticket Type</th>\n",
       "      <th>Quantity</th>\n",
       "    </tr>\n",
       "  </thead>\n",
       "  <tbody>\n",
       "    <tr>\n",
       "      <th>0</th>\n",
       "      <td>19</td>\n",
       "      <td>January</td>\n",
       "      <td>VIP</td>\n",
       "      <td>12</td>\n",
       "    </tr>\n",
       "    <tr>\n",
       "      <th>1</th>\n",
       "      <td>18</td>\n",
       "      <td>January</td>\n",
       "      <td>Platinum</td>\n",
       "      <td>11</td>\n",
       "    </tr>\n",
       "    <tr>\n",
       "      <th>2</th>\n",
       "      <td>17</td>\n",
       "      <td>January</td>\n",
       "      <td>Child</td>\n",
       "      <td>68</td>\n",
       "    </tr>\n",
       "    <tr>\n",
       "      <th>3</th>\n",
       "      <td>16</td>\n",
       "      <td>January</td>\n",
       "      <td>Adult</td>\n",
       "      <td>144</td>\n",
       "    </tr>\n",
       "    <tr>\n",
       "      <th>4</th>\n",
       "      <td>15</td>\n",
       "      <td>February</td>\n",
       "      <td>VIP</td>\n",
       "      <td>28</td>\n",
       "    </tr>\n",
       "    <tr>\n",
       "      <th>5</th>\n",
       "      <td>14</td>\n",
       "      <td>February</td>\n",
       "      <td>Platinum</td>\n",
       "      <td>42</td>\n",
       "    </tr>\n",
       "    <tr>\n",
       "      <th>6</th>\n",
       "      <td>13</td>\n",
       "      <td>February</td>\n",
       "      <td>Child</td>\n",
       "      <td>43</td>\n",
       "    </tr>\n",
       "    <tr>\n",
       "      <th>7</th>\n",
       "      <td>12</td>\n",
       "      <td>February</td>\n",
       "      <td>Adult</td>\n",
       "      <td>125</td>\n",
       "    </tr>\n",
       "    <tr>\n",
       "      <th>8</th>\n",
       "      <td>28</td>\n",
       "      <td>March</td>\n",
       "      <td>Adult</td>\n",
       "      <td>156</td>\n",
       "    </tr>\n",
       "    <tr>\n",
       "      <th>9</th>\n",
       "      <td>31</td>\n",
       "      <td>March</td>\n",
       "      <td>VIP</td>\n",
       "      <td>21</td>\n",
       "    </tr>\n",
       "  </tbody>\n",
       "</table>\n",
       "</div>"
      ],
      "text/plain": [
       "   index     Month Ticket Type  Quantity\n",
       "0     19   January         VIP        12\n",
       "1     18   January    Platinum        11\n",
       "2     17   January       Child        68\n",
       "3     16   January       Adult       144\n",
       "4     15  February         VIP        28\n",
       "5     14  February    Platinum        42\n",
       "6     13  February       Child        43\n",
       "7     12  February       Adult       125\n",
       "8     28     March       Adult       156\n",
       "9     31     March         VIP        21"
      ]
     },
     "execution_count": 10,
     "metadata": {},
     "output_type": "execute_result"
    }
   ],
   "source": [
    "# Define the correct chronological order for months\n",
    "month_order = ['January', 'February', 'March', 'April', 'May', 'June', \n",
    "               'July', 'August', 'September', 'October', 'November', 'December']\n",
    "\n",
    "# Convert the 'Month' column to a categorical type with the specified order\n",
    "grouped_sales['Month'] = pd.Categorical(grouped_sales['Month'], categories=month_order, ordered=True)\n",
    "\n",
    "# Sort the DataFrame by 'Month' to ensure chronological order and resetting the index\n",
    "grouped_df = grouped_sales.sort_values('Month').reset_index()\n",
    "\n",
    "grouped_df.head(10)"
   ]
  },
  {
   "cell_type": "code",
   "execution_count": 11,
   "id": "6f3be991",
   "metadata": {
    "execution": {
     "iopub.execute_input": "2024-08-16T18:17:12.652484Z",
     "iopub.status.busy": "2024-08-16T18:17:12.651311Z",
     "iopub.status.idle": "2024-08-16T18:17:12.666562Z",
     "shell.execute_reply": "2024-08-16T18:17:12.665290Z"
    },
    "papermill": {
     "duration": 0.031014,
     "end_time": "2024-08-16T18:17:12.669565",
     "exception": false,
     "start_time": "2024-08-16T18:17:12.638551",
     "status": "completed"
    },
    "tags": []
   },
   "outputs": [
    {
     "data": {
      "text/html": [
       "<div>\n",
       "<style scoped>\n",
       "    .dataframe tbody tr th:only-of-type {\n",
       "        vertical-align: middle;\n",
       "    }\n",
       "\n",
       "    .dataframe tbody tr th {\n",
       "        vertical-align: top;\n",
       "    }\n",
       "\n",
       "    .dataframe thead th {\n",
       "        text-align: right;\n",
       "    }\n",
       "</style>\n",
       "<table border=\"1\" class=\"dataframe\">\n",
       "  <thead>\n",
       "    <tr style=\"text-align: right;\">\n",
       "      <th></th>\n",
       "      <th>index</th>\n",
       "      <th>Month</th>\n",
       "      <th>Ticket Type</th>\n",
       "      <th>Quantity</th>\n",
       "    </tr>\n",
       "  </thead>\n",
       "  <tbody>\n",
       "    <tr>\n",
       "      <th>0</th>\n",
       "      <td>19</td>\n",
       "      <td>January</td>\n",
       "      <td>VIP</td>\n",
       "      <td>12</td>\n",
       "    </tr>\n",
       "    <tr>\n",
       "      <th>1</th>\n",
       "      <td>18</td>\n",
       "      <td>January</td>\n",
       "      <td>Platinum</td>\n",
       "      <td>11</td>\n",
       "    </tr>\n",
       "    <tr>\n",
       "      <th>2</th>\n",
       "      <td>17</td>\n",
       "      <td>January</td>\n",
       "      <td>Child</td>\n",
       "      <td>68</td>\n",
       "    </tr>\n",
       "    <tr>\n",
       "      <th>3</th>\n",
       "      <td>16</td>\n",
       "      <td>January</td>\n",
       "      <td>Adult</td>\n",
       "      <td>144</td>\n",
       "    </tr>\n",
       "    <tr>\n",
       "      <th>4</th>\n",
       "      <td>15</td>\n",
       "      <td>February</td>\n",
       "      <td>VIP</td>\n",
       "      <td>28</td>\n",
       "    </tr>\n",
       "    <tr>\n",
       "      <th>5</th>\n",
       "      <td>14</td>\n",
       "      <td>February</td>\n",
       "      <td>Platinum</td>\n",
       "      <td>42</td>\n",
       "    </tr>\n",
       "    <tr>\n",
       "      <th>6</th>\n",
       "      <td>13</td>\n",
       "      <td>February</td>\n",
       "      <td>Child</td>\n",
       "      <td>43</td>\n",
       "    </tr>\n",
       "    <tr>\n",
       "      <th>7</th>\n",
       "      <td>12</td>\n",
       "      <td>February</td>\n",
       "      <td>Adult</td>\n",
       "      <td>125</td>\n",
       "    </tr>\n",
       "    <tr>\n",
       "      <th>8</th>\n",
       "      <td>28</td>\n",
       "      <td>March</td>\n",
       "      <td>Adult</td>\n",
       "      <td>156</td>\n",
       "    </tr>\n",
       "    <tr>\n",
       "      <th>9</th>\n",
       "      <td>31</td>\n",
       "      <td>March</td>\n",
       "      <td>VIP</td>\n",
       "      <td>21</td>\n",
       "    </tr>\n",
       "  </tbody>\n",
       "</table>\n",
       "</div>"
      ],
      "text/plain": [
       "   index     Month Ticket Type  Quantity\n",
       "0     19   January         VIP        12\n",
       "1     18   January    Platinum        11\n",
       "2     17   January       Child        68\n",
       "3     16   January       Adult       144\n",
       "4     15  February         VIP        28\n",
       "5     14  February    Platinum        42\n",
       "6     13  February       Child        43\n",
       "7     12  February       Adult       125\n",
       "8     28     March       Adult       156\n",
       "9     31     March         VIP        21"
      ]
     },
     "execution_count": 11,
     "metadata": {},
     "output_type": "execute_result"
    }
   ],
   "source": [
    "#removing the additional index column so we have just the data we need\n",
    "\n",
    "#grouped_df = grouped_df.drop('index', axis=1)\n",
    "\n",
    "grouped_df.head(10)"
   ]
  },
  {
   "cell_type": "markdown",
   "id": "51c1cb05",
   "metadata": {
    "papermill": {
     "duration": 0.010916,
     "end_time": "2024-08-16T18:17:12.691857",
     "exception": false,
     "start_time": "2024-08-16T18:17:12.680941",
     "status": "completed"
    },
    "tags": []
   },
   "source": [
    "# Preparing the variables to feed into the waffle code\n",
    "\n",
    "I will filter to the results for January then add them to the code to make the first waffle"
   ]
  },
  {
   "cell_type": "code",
   "execution_count": 12,
   "id": "0706eac6",
   "metadata": {
    "execution": {
     "iopub.execute_input": "2024-08-16T18:17:12.716914Z",
     "iopub.status.busy": "2024-08-16T18:17:12.716406Z",
     "iopub.status.idle": "2024-08-16T18:17:12.732956Z",
     "shell.execute_reply": "2024-08-16T18:17:12.731490Z"
    },
    "papermill": {
     "duration": 0.03291,
     "end_time": "2024-08-16T18:17:12.736256",
     "exception": false,
     "start_time": "2024-08-16T18:17:12.703346",
     "status": "completed"
    },
    "tags": []
   },
   "outputs": [
    {
     "data": {
      "text/html": [
       "<div>\n",
       "<style scoped>\n",
       "    .dataframe tbody tr th:only-of-type {\n",
       "        vertical-align: middle;\n",
       "    }\n",
       "\n",
       "    .dataframe tbody tr th {\n",
       "        vertical-align: top;\n",
       "    }\n",
       "\n",
       "    .dataframe thead th {\n",
       "        text-align: right;\n",
       "    }\n",
       "</style>\n",
       "<table border=\"1\" class=\"dataframe\">\n",
       "  <thead>\n",
       "    <tr style=\"text-align: right;\">\n",
       "      <th></th>\n",
       "      <th>index</th>\n",
       "      <th>Month</th>\n",
       "      <th>Ticket Type</th>\n",
       "      <th>Quantity</th>\n",
       "    </tr>\n",
       "  </thead>\n",
       "  <tbody>\n",
       "    <tr>\n",
       "      <th>0</th>\n",
       "      <td>19</td>\n",
       "      <td>January</td>\n",
       "      <td>VIP</td>\n",
       "      <td>12</td>\n",
       "    </tr>\n",
       "    <tr>\n",
       "      <th>1</th>\n",
       "      <td>18</td>\n",
       "      <td>January</td>\n",
       "      <td>Platinum</td>\n",
       "      <td>11</td>\n",
       "    </tr>\n",
       "    <tr>\n",
       "      <th>2</th>\n",
       "      <td>17</td>\n",
       "      <td>January</td>\n",
       "      <td>Child</td>\n",
       "      <td>68</td>\n",
       "    </tr>\n",
       "    <tr>\n",
       "      <th>3</th>\n",
       "      <td>16</td>\n",
       "      <td>January</td>\n",
       "      <td>Adult</td>\n",
       "      <td>144</td>\n",
       "    </tr>\n",
       "  </tbody>\n",
       "</table>\n",
       "</div>"
      ],
      "text/plain": [
       "   index    Month Ticket Type  Quantity\n",
       "0     19  January         VIP        12\n",
       "1     18  January    Platinum        11\n",
       "2     17  January       Child        68\n",
       "3     16  January       Adult       144"
      ]
     },
     "execution_count": 12,
     "metadata": {},
     "output_type": "execute_result"
    }
   ],
   "source": [
    "#Filtering to just the January data\n",
    "\n",
    "january_df = grouped_df[grouped_df['Month'] == 'January']\n",
    "\n",
    "january_df"
   ]
  },
  {
   "cell_type": "code",
   "execution_count": 13,
   "id": "12562cca",
   "metadata": {
    "execution": {
     "iopub.execute_input": "2024-08-16T18:17:12.761863Z",
     "iopub.status.busy": "2024-08-16T18:17:12.761354Z",
     "iopub.status.idle": "2024-08-16T18:17:13.089430Z",
     "shell.execute_reply": "2024-08-16T18:17:13.087990Z"
    },
    "papermill": {
     "duration": 0.345158,
     "end_time": "2024-08-16T18:17:13.093023",
     "exception": false,
     "start_time": "2024-08-16T18:17:12.747865",
     "status": "completed"
    },
    "tags": []
   },
   "outputs": [
    {
     "data": {
      "image/png": "[encoded data removed]",
      "text/plain": [
       "<Figure size 1000x500 with 1 Axes>"
      ]
     },
     "metadata": {},
     "output_type": "display_data"
    }
   ],
   "source": [
    "#Assigning the January variables\n",
    "\n",
    "month_name = \"January\"\n",
    "categories = january_df['Ticket Type'].tolist()\n",
    "values = january_df['Quantity'].tolist()\n",
    "\n",
    "#non-month specifc variables\n",
    "colors = ['#627AF7', '#916EC8', '#C06299', '#EF566A']\n",
    "title_var = month_name\n",
    "\n",
    "#run the function I made earlier to create the waffle chart\n",
    "create_waffle_chart(categories, values, rows=10, cols=10, colors=colors, title=title_var)"
   ]
  },
  {
   "cell_type": "markdown",
   "id": "46766da4",
   "metadata": {
    "papermill": {
     "duration": 0.013058,
     "end_time": "2024-08-16T18:17:13.118861",
     "exception": false,
     "start_time": "2024-08-16T18:17:13.105803",
     "status": "completed"
    },
    "tags": []
   },
   "source": [
    "# Plot all 12 waffles charts\n",
    "\n",
    "I want to create a chart for each month of the year and display them in a way that makes it easy to compare ticekts sales for each category over each month.\n",
    "\n",
    "To do this, I will attempt to set the variables in a dynamic way so I can use a for loop to create a chart for each distinct month and display them in a 4x3 grid."
   ]
  },
  {
   "cell_type": "code",
   "execution_count": 14,
   "id": "0dae6b9a",
   "metadata": {
    "execution": {
     "iopub.execute_input": "2024-08-16T18:17:13.147187Z",
     "iopub.status.busy": "2024-08-16T18:17:13.146666Z",
     "iopub.status.idle": "2024-08-16T18:17:13.162928Z",
     "shell.execute_reply": "2024-08-16T18:17:13.161551Z"
    },
    "papermill": {
     "duration": 0.034881,
     "end_time": "2024-08-16T18:17:13.166234",
     "exception": false,
     "start_time": "2024-08-16T18:17:13.131353",
     "status": "completed"
    },
    "tags": []
   },
   "outputs": [
    {
     "data": {
      "text/html": [
       "<div>\n",
       "<style scoped>\n",
       "    .dataframe tbody tr th:only-of-type {\n",
       "        vertical-align: middle;\n",
       "    }\n",
       "\n",
       "    .dataframe tbody tr th {\n",
       "        vertical-align: top;\n",
       "    }\n",
       "\n",
       "    .dataframe thead th {\n",
       "        text-align: right;\n",
       "    }\n",
       "</style>\n",
       "<table border=\"1\" class=\"dataframe\">\n",
       "  <thead>\n",
       "    <tr style=\"text-align: right;\">\n",
       "      <th></th>\n",
       "      <th>index</th>\n",
       "      <th>Month</th>\n",
       "      <th>Ticket Type</th>\n",
       "      <th>Quantity</th>\n",
       "    </tr>\n",
       "  </thead>\n",
       "  <tbody>\n",
       "    <tr>\n",
       "      <th>0</th>\n",
       "      <td>19</td>\n",
       "      <td>January</td>\n",
       "      <td>VIP</td>\n",
       "      <td>12</td>\n",
       "    </tr>\n",
       "    <tr>\n",
       "      <th>1</th>\n",
       "      <td>18</td>\n",
       "      <td>January</td>\n",
       "      <td>Platinum</td>\n",
       "      <td>11</td>\n",
       "    </tr>\n",
       "    <tr>\n",
       "      <th>2</th>\n",
       "      <td>17</td>\n",
       "      <td>January</td>\n",
       "      <td>Child</td>\n",
       "      <td>68</td>\n",
       "    </tr>\n",
       "    <tr>\n",
       "      <th>3</th>\n",
       "      <td>16</td>\n",
       "      <td>January</td>\n",
       "      <td>Adult</td>\n",
       "      <td>144</td>\n",
       "    </tr>\n",
       "    <tr>\n",
       "      <th>4</th>\n",
       "      <td>15</td>\n",
       "      <td>February</td>\n",
       "      <td>VIP</td>\n",
       "      <td>28</td>\n",
       "    </tr>\n",
       "    <tr>\n",
       "      <th>5</th>\n",
       "      <td>14</td>\n",
       "      <td>February</td>\n",
       "      <td>Platinum</td>\n",
       "      <td>42</td>\n",
       "    </tr>\n",
       "    <tr>\n",
       "      <th>6</th>\n",
       "      <td>13</td>\n",
       "      <td>February</td>\n",
       "      <td>Child</td>\n",
       "      <td>43</td>\n",
       "    </tr>\n",
       "    <tr>\n",
       "      <th>7</th>\n",
       "      <td>12</td>\n",
       "      <td>February</td>\n",
       "      <td>Adult</td>\n",
       "      <td>125</td>\n",
       "    </tr>\n",
       "    <tr>\n",
       "      <th>8</th>\n",
       "      <td>28</td>\n",
       "      <td>March</td>\n",
       "      <td>Adult</td>\n",
       "      <td>156</td>\n",
       "    </tr>\n",
       "    <tr>\n",
       "      <th>9</th>\n",
       "      <td>31</td>\n",
       "      <td>March</td>\n",
       "      <td>VIP</td>\n",
       "      <td>21</td>\n",
       "    </tr>\n",
       "  </tbody>\n",
       "</table>\n",
       "</div>"
      ],
      "text/plain": [
       "   index     Month Ticket Type  Quantity\n",
       "0     19   January         VIP        12\n",
       "1     18   January    Platinum        11\n",
       "2     17   January       Child        68\n",
       "3     16   January       Adult       144\n",
       "4     15  February         VIP        28\n",
       "5     14  February    Platinum        42\n",
       "6     13  February       Child        43\n",
       "7     12  February       Adult       125\n",
       "8     28     March       Adult       156\n",
       "9     31     March         VIP        21"
      ]
     },
     "execution_count": 14,
     "metadata": {},
     "output_type": "execute_result"
    }
   ],
   "source": [
    "grouped_df.head(10)"
   ]
  },
  {
   "cell_type": "code",
   "execution_count": 15,
   "id": "cb53f8ce",
   "metadata": {
    "execution": {
     "iopub.execute_input": "2024-08-16T18:17:13.194796Z",
     "iopub.status.busy": "2024-08-16T18:17:13.194248Z",
     "iopub.status.idle": "2024-08-16T18:17:15.763868Z",
     "shell.execute_reply": "2024-08-16T18:17:15.762320Z"
    },
    "papermill": {
     "duration": 2.587976,
     "end_time": "2024-08-16T18:17:15.767479",
     "exception": false,
     "start_time": "2024-08-16T18:17:13.179503",
     "status": "completed"
    },
    "tags": []
   },
   "outputs": [
    {
     "name": "stderr",
     "output_type": "stream",
     "text": [
      "/tmp/ipykernel_18/3866300862.py:56: FutureWarning: The default value of observed=False is deprecated and will change to observed=True in a future version of pandas. Specify observed=False to silence this warning and retain the current behavior\n",
      "  grouped_df = grouped_df.pivot_table(index='Month', columns='Ticket Type', values='Quantity', fill_value=0).reset_index()\n"
     ]
    },
    {
     "data": {
      "image/png": "[encoded data removed]",
      "text/plain": [
       "<Figure size 2000x1500 with 12 Axes>"
      ]
     },
     "metadata": {},
     "output_type": "display_data"
    }
   ],
   "source": [
    "def create_waffle_chart(ax, categories, values, rows=10, cols=10, colors=None, title='Waffle Chart'):\n",
    "    total_values = sum(values)\n",
    "    category_proportions = [float(value) / total_values for value in values]\n",
    "\n",
    "    # Define the total number of tiles\n",
    "    total_tiles = rows * cols\n",
    "    tiles_per_category = [round(proportion * total_tiles) for proportion in category_proportions]\n",
    "\n",
    "    # Adjust the tiles to match the total\n",
    "    tiles_sum = sum(tiles_per_category)\n",
    "    if tiles_sum != total_tiles:\n",
    "        difference = total_tiles - tiles_sum\n",
    "        tiles_per_category[-1] += difference  # Adjust the last category\n",
    "\n",
    "    # Create a list of category indexes\n",
    "    waffle_chart = np.zeros((rows, cols))\n",
    "\n",
    "    # Populate the waffle chart\n",
    "    category_index = 0\n",
    "    for r in range(rows):\n",
    "        for c in range(cols):\n",
    "            while tiles_per_category[category_index] == 0:\n",
    "                category_index += 1\n",
    "                if category_index >= len(tiles_per_category):  # Avoid index out of range\n",
    "                    break\n",
    "            if category_index >= len(tiles_per_category):\n",
    "                break\n",
    "            waffle_chart[r, c] = category_index\n",
    "            tiles_per_category[category_index] -= 1\n",
    "\n",
    "    # Plotting the waffle chart\n",
    "    ax.set_facecolor('black')  # Set the axes background to black\n",
    "\n",
    "    # Set up a colormap based on the colors provided\n",
    "    if colors:\n",
    "        cmap = plt.matplotlib.colors.ListedColormap(colors)\n",
    "        ax.matshow(waffle_chart, cmap=cmap, alpha=0.9)\n",
    "    else:\n",
    "        ax.matshow(waffle_chart, cmap=plt.cm.Paired, alpha=0.9)\n",
    "\n",
    "    # Add thick gridlines in black\n",
    "    for r in range(rows + 1):\n",
    "        ax.axhline(r - 0.5, color='black', linewidth=3)\n",
    "    for c in range(cols + 1):\n",
    "        ax.axvline(c - 0.5, color='black', linewidth=3)\n",
    "\n",
    "    # Hide the ticks\n",
    "    ax.set_xticks([])\n",
    "    ax.set_yticks([])\n",
    "\n",
    "    # Set the title for each waffle chart\n",
    "    ax.set_title(title, color='white', fontsize=12)\n",
    "\n",
    "# Ensure all ticket types are represented for each month\n",
    "ticket_types = grouped_df['Ticket Type'].unique()\n",
    "grouped_df = grouped_df.pivot_table(index='Month', columns='Ticket Type', values='Quantity', fill_value=0).reset_index()\n",
    "\n",
    "# Define the colors for each ticket type\n",
    "colors = ['#627AF7', '#916EC8', '#C06299', '#EF566A']\n",
    "\n",
    "# Prepare the figure for the 12 waffle charts\n",
    "fig, axes = plt.subplots(nrows=3, ncols=4, figsize=(20, 15))\n",
    "fig.patch.set_facecolor('black')  # Set the background color for the entire figure\n",
    "\n",
    "# Add a title above all subplots\n",
    "plt.suptitle(\"Monthly Ticket Sales by Type\", color='white', fontsize=30)\n",
    "\n",
    "# Create the legend\n",
    "handles = [plt.Rectangle((0, 0), 1, 1, color=colors[i]) for i in range(len(ticket_types))]\n",
    "fig.legend(handles, ticket_types, loc='upper center', bbox_to_anchor=(0.5, 0.92),\n",
    "           ncol=len(ticket_types), facecolor='black', edgecolor='white', fontsize=12, labelcolor='white')\n",
    "\n",
    "# Flatten the axes array for easier iteration\n",
    "axes = axes.flatten()\n",
    "\n",
    "# Create a waffle chart for each month\n",
    "for i, month in enumerate(grouped_df['Month'].unique()):\n",
    "    if i >= len(axes):\n",
    "        break  # Prevent accessing out-of-range axes\n",
    "    month_data = grouped_df[grouped_df['Month'] == month]\n",
    "    values = month_data.iloc[0, 1:].values  # Exclude the 'Month' column\n",
    "    \n",
    "    create_waffle_chart(axes[i], ticket_types, values, rows=10, cols=10, colors=colors, title=month)\n",
    "\n",
    "# Remove any empty subplots\n",
    "for j in range(len(grouped_df['Month'].unique()), len(axes)):\n",
    "    fig.delaxes(axes[j])  # Remove any empty subplots\n",
    "\n",
    "# Adjust layout to prevent overlap\n",
    "plt.tight_layout(rect=[0, 0, 1, 0.88])  # Adjust layout to fit the title and legend\n",
    "\n",
    "# Display the plot\n",
    "plt.show()\n"
   ]
  }
 ],
 "metadata": {
  "kaggle": {
   "accelerator": "none",
   "dataSources": [
    {
     "datasetId": 5552625,
     "sourceId": 9185868,
     "sourceType": "datasetVersion"
    }
   ],
   "dockerImageVersionId": 30746,
   "isGpuEnabled": false,
   "isInternetEnabled": false,
   "language": "python",
   "sourceType": "notebook"
  },
  "kernelspec": {
   "display_name": "Python 3",
   "language": "python",
   "name": "python3"
  },
  "language_info": {
   "codemirror_mode": {
    "name": "ipython",
    "version": 3
   },
   "file_extension": ".py",
   "mimetype": "text/x-python",
   "name": "python",
   "nbconvert_exporter": "python",
   "pygments_lexer": "ipython3",
   "version": "3.10.13"
  },
  "papermill": {
   "default_parameters": {},
   "duration": 10.159857,
   "end_time": "2024-08-16T18:17:16.506768",
   "environment_variables": {},
   "exception": null,
   "input_path": "__notebook__.ipynb",
   "output_path": "__notebook__.ipynb",
   "parameters": {},
   "start_time": "2024-08-16T18:17:06.346911",
   "version": "2.5.0"
  }
 },
 "nbformat": 4,
 "nbformat_minor": 5
}
